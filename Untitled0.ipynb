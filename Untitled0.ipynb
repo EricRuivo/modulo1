{
  "nbformat": 4,
  "nbformat_minor": 0,
  "metadata": {
    "colab": {
      "provenance": [],
      "toc_visible": true
    },
    "kernelspec": {
      "name": "python3",
      "display_name": "Python 3"
    },
    "language_info": {
      "name": "python"
    }
  },
  "cells": [
    {
      "cell_type": "markdown",
      "source": [
        "# Nova seção"
      ],
      "metadata": {
        "id": "Yaf0Aq-hI2yx"
      }
    },
    {
      "cell_type": "code",
      "source": [
        "print(\"treinamento\")"
      ],
      "metadata": {
        "colab": {
          "base_uri": "https://localhost:8080/"
        },
        "id": "pMz6TJUnI38J",
        "outputId": "b9f84d66-6e88-49cc-c02b-c419a963957e"
      },
      "execution_count": 1,
      "outputs": [
        {
          "output_type": "stream",
          "name": "stdout",
          "text": [
            "treinamento\n"
          ]
        }
      ]
    }
  ]
}